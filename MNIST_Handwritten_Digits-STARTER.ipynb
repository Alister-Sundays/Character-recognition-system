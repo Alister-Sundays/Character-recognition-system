{
 "cells": [
  {
   "cell_type": "markdown",
   "metadata": {},
   "source": [
    "# Introduction\n",
    "\n",
    "In this project, you will build a neural network of your own design to evaluate the MNIST dataset.\n",
    "\n",
    "Some of the benchmark results on MNIST include can be found [on Yann LeCun's page](https://webcache.googleusercontent.com/search?q=cache:stAVPik6onEJ:yann.lecun.com/exdb/mnist) and include:\n",
    "\n",
    "88% [Lecun et al., 1998](https://hal.science/hal-03926082/document)\n",
    "\n",
    "95.3% [Lecun et al., 1998](https://hal.science/hal-03926082v1/document)\n",
    "\n",
    "99.65% [Ciresan et al., 2011](http://people.idsia.ch/~juergen/ijcai2011.pdf)\n",
    "\n",
    "\n",
    "MNIST is a great dataset for sanity checking your models, since the accuracy levels achieved by large convolutional neural networks and small linear models are both quite high. This makes it important to be familiar with the data.\n",
    "\n",
    "## Installation"
   ]
  },
  {
   "cell_type": "code",
   "execution_count": 1,
   "metadata": {},
   "outputs": [],
   "source": [
    "# Update the PATH to include the user installation directory. \n",
    "import os\n",
    "os.environ['PATH'] = f\"{os.environ['PATH']}:/root/.local/bin\"\n",
    "\n",
    "# Restart the Kernel before you move on to the next step."
   ]
  },
  {
   "cell_type": "markdown",
   "metadata": {},
   "source": [
    "#### Important: Restart the Kernel before you move on to the next step."
   ]
  },
  {
   "cell_type": "code",
   "execution_count": 1,
   "metadata": {},
   "outputs": [
    {
     "name": "stdout",
     "output_type": "stream",
     "text": [
      "Collecting opencv-python-headless==4.5.3.56 (from -r requirements.txt (line 1))\n",
      "  Using cached opencv-python-headless-4.5.3.56.tar.gz (89.2 MB)\n",
      "  Installing build dependencies: started\n",
      "  Installing build dependencies: finished with status 'error'\n"
     ]
    },
    {
     "name": "stderr",
     "output_type": "stream",
     "text": [
      "  error: subprocess-exited-with-error\n",
      "  \n",
      "  × pip subprocess to install build dependencies did not run successfully.\n",
      "  │ exit code: 1\n",
      "  ╰─> [232 lines of output]\n",
      "      Ignoring numpy: markers 'python_version == \"3.6\" and platform_machine != \"aarch64\" and platform_machine != \"arm64\"' don't match your environment\n",
      "      Ignoring numpy: markers 'python_version >= \"3.6\" and sys_platform == \"linux\" and platform_machine == \"aarch64\"' don't match your environment\n",
      "      Ignoring numpy: markers 'python_version >= \"3.6\" and sys_platform == \"darwin\" and platform_machine == \"arm64\"' don't match your environment\n",
      "      Ignoring numpy: markers 'python_version == \"3.7\" and platform_machine != \"aarch64\" and platform_machine != \"arm64\"' don't match your environment\n",
      "      Ignoring numpy: markers 'python_version == \"3.8\" and platform_machine != \"aarch64\" and platform_machine != \"arm64\"' don't match your environment\n",
      "      Collecting setuptools\n",
      "        Using cached setuptools-69.5.1-py3-none-any.whl.metadata (6.2 kB)\n",
      "      Collecting wheel\n",
      "        Using cached wheel-0.43.0-py3-none-any.whl.metadata (2.2 kB)\n",
      "      Collecting scikit-build\n",
      "        Using cached scikit_build-0.17.6-py3-none-any.whl.metadata (14 kB)\n",
      "      Collecting cmake\n",
      "        Using cached cmake-3.29.3-py3-none-win_amd64.whl.metadata (6.1 kB)\n",
      "      Collecting pip\n",
      "        Using cached pip-24.0-py3-none-any.whl.metadata (3.6 kB)\n",
      "      Collecting numpy==1.19.3\n",
      "        Using cached numpy-1.19.3.zip (7.3 MB)\n",
      "        Installing build dependencies: started\n",
      "        Installing build dependencies: finished with status 'done'\n",
      "        Getting requirements to build wheel: started\n",
      "        Getting requirements to build wheel: finished with status 'done'\n",
      "        Preparing metadata (pyproject.toml): started\n",
      "        Preparing metadata (pyproject.toml): finished with status 'error'\n",
      "        error: subprocess-exited-with-error\n",
      "      \n",
      "        Ã— Preparing metadata (pyproject.toml) did not run successfully.\n",
      "        â”‚ exit code: 1\n",
      "        â•°â”€> [194 lines of output]\n",
      "            setup.py:67: RuntimeWarning: NumPy 1.19.3 may not yet support Python 3.11.\n",
      "              warnings.warn(\n",
      "            Running from numpy source directory.\n",
      "            setup.py:480: UserWarning: Unrecognized setuptools command, proceeding with generating Cython sources and expanding templates\n",
      "              run_build = parse_setuppy_commands()\n",
      "            Cythonizing sources\n",
      "            Processing numpy/random\\_bounded_integers.pxd.in\n",
      "            Processing numpy/random\\bit_generator.pyx\n",
      "            Processing numpy/random\\mtrand.pyx\n",
      "            Processing numpy/random\\_bounded_integers.pyx.in\n",
      "            Processing numpy/random\\_common.pyx\n",
      "            Processing numpy/random\\_generator.pyx\n",
      "            Processing numpy/random\\_mt19937.pyx\n",
      "            Processing numpy/random\\_pcg64.pyx\n",
      "            Processing numpy/random\\_philox.pyx\n",
      "            Processing numpy/random\\_sfc64.pyx\n",
      "            blas_opt_info:\n",
      "            blas_mkl_info:\n",
      "            No module named 'numpy.distutils._msvccompiler' in numpy.distutils; trying from distutils\n",
      "            customize MSVCCompiler\n",
      "              libraries mkl_rt not found in ['d:\\\\DATA\\\\Udacity\\\\Pytorch\\\\pytorch\\\\lib', 'C:\\\\']\n",
      "              NOT AVAILABLE\n",
      "      \n",
      "            blis_info:\n",
      "              libraries blis not found in ['d:\\\\DATA\\\\Udacity\\\\Pytorch\\\\pytorch\\\\lib', 'C:\\\\']\n",
      "              NOT AVAILABLE\n",
      "      \n",
      "            openblas_info:\n",
      "              libraries openblas not found in ['d:\\\\DATA\\\\Udacity\\\\Pytorch\\\\pytorch\\\\lib', 'C:\\\\']\n",
      "            get_default_fcompiler: matching types: '['gnu', 'intelv', 'absoft', 'compaqv', 'intelev', 'gnu95', 'g95', 'intelvem', 'intelem', 'flang']'\n",
      "            customize GnuFCompiler\n",
      "            Could not locate executable g77\n",
      "            Could not locate executable f77\n",
      "            customize IntelVisualFCompiler\n",
      "            Could not locate executable ifort\n",
      "            Could not locate executable ifl\n",
      "            customize AbsoftFCompiler\n",
      "            Could not locate executable f90\n",
      "            customize CompaqVisualFCompiler\n",
      "            Could not locate executable DF\n",
      "            customize IntelItaniumVisualFCompiler\n",
      "            Could not locate executable efl\n",
      "            customize Gnu95FCompiler\n",
      "            Could not locate executable gfortran\n",
      "            Could not locate executable f95\n",
      "            customize G95FCompiler\n",
      "            Could not locate executable g95\n",
      "            customize IntelEM64VisualFCompiler\n",
      "            customize IntelEM64TFCompiler\n",
      "            Could not locate executable efort\n",
      "            Could not locate executable efc\n",
      "            customize PGroupFlangCompiler\n",
      "            Could not locate executable flang\n",
      "            don't know how to compile Fortran code on platform 'nt'\n",
      "              NOT AVAILABLE\n",
      "      \n",
      "            atlas_3_10_blas_threads_info:\n",
      "            Setting PTATLAS=ATLAS\n",
      "              libraries tatlas not found in ['d:\\\\DATA\\\\Udacity\\\\Pytorch\\\\pytorch\\\\lib', 'C:\\\\']\n",
      "              NOT AVAILABLE\n",
      "      \n",
      "            atlas_3_10_blas_info:\n",
      "              libraries satlas not found in ['d:\\\\DATA\\\\Udacity\\\\Pytorch\\\\pytorch\\\\lib', 'C:\\\\']\n",
      "              NOT AVAILABLE\n",
      "      \n",
      "            atlas_blas_threads_info:\n",
      "            Setting PTATLAS=ATLAS\n",
      "              libraries ptf77blas,ptcblas,atlas not found in ['d:\\\\DATA\\\\Udacity\\\\Pytorch\\\\pytorch\\\\lib', 'C:\\\\']\n",
      "              NOT AVAILABLE\n",
      "      \n",
      "            atlas_blas_info:\n",
      "              libraries f77blas,cblas,atlas not found in ['d:\\\\DATA\\\\Udacity\\\\Pytorch\\\\pytorch\\\\lib', 'C:\\\\']\n",
      "              NOT AVAILABLE\n",
      "      \n",
      "            accelerate_info:\n",
      "              NOT AVAILABLE\n",
      "      \n",
      "            C:\\Users\\p\\AppData\\Local\\Temp\\pip-install-ky3r4bpd\\numpy_5b8970174a9f4a58992e36171df5d558\\numpy\\distutils\\system_info.py:1914: UserWarning:\n",
      "                Optimized (vendor) Blas libraries are not found.\n",
      "                Falls back to netlib Blas library which has worse performance.\n",
      "                A better performance should be easily gained by switching\n",
      "                Blas library.\n",
      "              if self._calc_info(blas):\n",
      "            blas_info:\n",
      "              libraries blas not found in ['d:\\\\DATA\\\\Udacity\\\\Pytorch\\\\pytorch\\\\lib', 'C:\\\\']\n",
      "              NOT AVAILABLE\n",
      "      \n",
      "            C:\\Users\\p\\AppData\\Local\\Temp\\pip-install-ky3r4bpd\\numpy_5b8970174a9f4a58992e36171df5d558\\numpy\\distutils\\system_info.py:1914: UserWarning:\n",
      "                Blas (http://www.netlib.org/blas/) libraries not found.\n",
      "                Directories to search for the libraries can be specified in the\n",
      "                numpy/distutils/site.cfg file (section [blas]) or by setting\n",
      "                the BLAS environment variable.\n",
      "              if self._calc_info(blas):\n",
      "            blas_src_info:\n",
      "              NOT AVAILABLE\n",
      "      \n",
      "            C:\\Users\\p\\AppData\\Local\\Temp\\pip-install-ky3r4bpd\\numpy_5b8970174a9f4a58992e36171df5d558\\numpy\\distutils\\system_info.py:1914: UserWarning:\n",
      "                Blas (http://www.netlib.org/blas/) sources not found.\n",
      "                Directories to search for the sources can be specified in the\n",
      "                numpy/distutils/site.cfg file (section [blas_src]) or by setting\n",
      "                the BLAS_SRC environment variable.\n",
      "              if self._calc_info(blas):\n",
      "              NOT AVAILABLE\n",
      "      \n",
      "            non-existing path in 'numpy\\\\distutils': 'site.cfg'\n",
      "            lapack_opt_info:\n",
      "            lapack_mkl_info:\n",
      "              libraries mkl_rt not found in ['d:\\\\DATA\\\\Udacity\\\\Pytorch\\\\pytorch\\\\lib', 'C:\\\\']\n",
      "              NOT AVAILABLE\n",
      "      \n",
      "            openblas_lapack_info:\n",
      "              libraries openblas not found in ['d:\\\\DATA\\\\Udacity\\\\Pytorch\\\\pytorch\\\\lib', 'C:\\\\']\n",
      "              NOT AVAILABLE\n",
      "      \n",
      "            openblas_clapack_info:\n",
      "              libraries openblas,lapack not found in ['d:\\\\DATA\\\\Udacity\\\\Pytorch\\\\pytorch\\\\lib', 'C:\\\\']\n",
      "              NOT AVAILABLE\n",
      "      \n",
      "            flame_info:\n",
      "              libraries flame not found in ['d:\\\\DATA\\\\Udacity\\\\Pytorch\\\\pytorch\\\\lib', 'C:\\\\']\n",
      "              NOT AVAILABLE\n",
      "      \n",
      "            atlas_3_10_threads_info:\n",
      "            Setting PTATLAS=ATLAS\n",
      "              libraries lapack_atlas not found in d:\\DATA\\Udacity\\Pytorch\\pytorch\\lib\n",
      "              libraries tatlas,tatlas not found in d:\\DATA\\Udacity\\Pytorch\\pytorch\\lib\n",
      "              libraries lapack_atlas not found in C:\\\n",
      "              libraries tatlas,tatlas not found in C:\\\n",
      "            <class 'numpy.distutils.system_info.atlas_3_10_threads_info'>\n",
      "              NOT AVAILABLE\n",
      "      \n",
      "            atlas_3_10_info:\n",
      "              libraries lapack_atlas not found in d:\\DATA\\Udacity\\Pytorch\\pytorch\\lib\n",
      "              libraries satlas,satlas not found in d:\\DATA\\Udacity\\Pytorch\\pytorch\\lib\n",
      "              libraries lapack_atlas not found in C:\\\n",
      "              libraries satlas,satlas not found in C:\\\n",
      "            <class 'numpy.distutils.system_info.atlas_3_10_info'>\n",
      "              NOT AVAILABLE\n",
      "      \n",
      "            atlas_threads_info:\n",
      "            Setting PTATLAS=ATLAS\n",
      "              libraries lapack_atlas not found in d:\\DATA\\Udacity\\Pytorch\\pytorch\\lib\n",
      "              libraries ptf77blas,ptcblas,atlas not found in d:\\DATA\\Udacity\\Pytorch\\pytorch\\lib\n",
      "              libraries lapack_atlas not found in C:\\\n",
      "              libraries ptf77blas,ptcblas,atlas not found in C:\\\n",
      "            <class 'numpy.distutils.system_info.atlas_threads_info'>\n",
      "              NOT AVAILABLE\n",
      "      \n",
      "            atlas_info:\n",
      "              libraries lapack_atlas not found in d:\\DATA\\Udacity\\Pytorch\\pytorch\\lib\n",
      "              libraries f77blas,cblas,atlas not found in d:\\DATA\\Udacity\\Pytorch\\pytorch\\lib\n",
      "              libraries lapack_atlas not found in C:\\\n",
      "              libraries f77blas,cblas,atlas not found in C:\\\n",
      "            <class 'numpy.distutils.system_info.atlas_info'>\n",
      "              NOT AVAILABLE\n",
      "      \n",
      "            lapack_info:\n",
      "              libraries lapack not found in ['d:\\\\DATA\\\\Udacity\\\\Pytorch\\\\pytorch\\\\lib', 'C:\\\\']\n",
      "              NOT AVAILABLE\n",
      "      \n",
      "            C:\\Users\\p\\AppData\\Local\\Temp\\pip-install-ky3r4bpd\\numpy_5b8970174a9f4a58992e36171df5d558\\numpy\\distutils\\system_info.py:1748: UserWarning:\n",
      "                Lapack (http://www.netlib.org/lapack/) libraries not found.\n",
      "                Directories to search for the libraries can be specified in the\n",
      "                numpy/distutils/site.cfg file (section [lapack]) or by setting\n",
      "                the LAPACK environment variable.\n",
      "              return getattr(self, '_calc_info_{}'.format(name))()\n",
      "            lapack_src_info:\n",
      "              NOT AVAILABLE\n",
      "      \n",
      "            C:\\Users\\p\\AppData\\Local\\Temp\\pip-install-ky3r4bpd\\numpy_5b8970174a9f4a58992e36171df5d558\\numpy\\distutils\\system_info.py:1748: UserWarning:\n",
      "                Lapack (http://www.netlib.org/lapack/) sources not found.\n",
      "                Directories to search for the sources can be specified in the\n",
      "                numpy/distutils/site.cfg file (section [lapack_src]) or by setting\n",
      "                the LAPACK_SRC environment variable.\n",
      "              return getattr(self, '_calc_info_{}'.format(name))()\n",
      "              NOT AVAILABLE\n",
      "      \n",
      "            numpy_linalg_lapack_lite:\n",
      "              FOUND:\n",
      "                language = c\n",
      "                define_macros = [('HAVE_BLAS_ILP64', None), ('BLAS_SYMBOL_SUFFIX', '64_')]\n",
      "      \n",
      "            C:\\Users\\p\\AppData\\Local\\Temp\\pip-build-env-n28_epr2\\overlay\\Lib\\site-packages\\setuptools\\_distutils\\dist.py:275: UserWarning: Unknown distribution option: 'define_macros'\n",
      "              warnings.warn(msg)\n",
      "            running dist_info\n",
      "            running build_src\n",
      "            build_src\n",
      "            building py_modules sources\n",
      "            creating build\n",
      "            creating build\\src.win-amd64-3.11\n",
      "            creating build\\src.win-amd64-3.11\\numpy\n",
      "            creating build\\src.win-amd64-3.11\\numpy\\distutils\n",
      "            building library \"npymath\" sources\n",
      "            error: Microsoft Visual C++ 14.0 is required. Get it with \"Build Tools for Visual Studio\": https://visualstudio.microsoft.com/downloads/\n",
      "            [end of output]\n",
      "      \n",
      "        note: This error originates from a subprocess, and is likely not a problem with pip.\n",
      "      error: metadata-generation-failed\n",
      "      \n",
      "      Ã— Encountered error while generating package metadata.\n",
      "      â•°â”€> See above for output.\n",
      "      \n",
      "      note: This is an issue with the package mentioned above, not pip.\n",
      "      hint: See above for details.\n",
      "      [end of output]\n",
      "  \n",
      "  note: This error originates from a subprocess, and is likely not a problem with pip.\n",
      "error: subprocess-exited-with-error\n",
      "\n",
      "× pip subprocess to install build dependencies did not run successfully.\n",
      "│ exit code: 1\n",
      "╰─> See above for output.\n",
      "\n",
      "note: This error originates from a subprocess, and is likely not a problem with pip.\n"
     ]
    }
   ],
   "source": [
    "# Install requirements\n",
    "!python -m pip install -r requirements.txt"
   ]
  },
  {
   "cell_type": "markdown",
   "metadata": {},
   "source": [
    "## Imports"
   ]
  },
  {
   "cell_type": "code",
   "execution_count": 4,
   "metadata": {},
   "outputs": [],
   "source": [
    "## This cell contains the essential imports you will need – DO NOT CHANGE THE CONTENTS! ##\n",
    "import torch\n",
    "import torch.nn as nn\n",
    "import torch.nn.functional as F\n",
    "import torch.optim as optim\n",
    "import torchvision\n",
    "import torchvision.transforms as transforms\n",
    "from torch.utils.tensorboard import SummaryWriter\n",
    "from torchvision import datasets\n",
    "from torch.utils.data import DataLoader\n",
    "import matplotlib.pyplot as plt\n",
    "import numpy as np"
   ]
  },
  {
   "cell_type": "markdown",
   "metadata": {},
   "source": [
    "## Load the Dataset\n",
    "\n",
    "Specify your transforms as a list if you intend to .\n",
    "The transforms module is already loaded as `transforms`.\n",
    "\n",
    "MNIST is fortunately included in the torchvision module.\n",
    "Then, you can create your dataset using the `MNIST` object from `torchvision.datasets` ([the documentation is available here](https://pytorch.org/vision/stable/datasets.html#mnist)).\n",
    "Make sure to specify `download=True`! \n",
    "\n",
    "Once your dataset is created, you'll also need to define a `DataLoader` from the `torch.utils.data` module for both the train and the test set."
   ]
  },
  {
   "cell_type": "code",
   "execution_count": 5,
   "metadata": {},
   "outputs": [],
   "source": [
    "#Instantiate our SumaaryWriter\n",
    "writer = SummaryWriter(log_dir=\"./runs\")"
   ]
  },
  {
   "cell_type": "code",
   "execution_count": 6,
   "metadata": {},
   "outputs": [
    {
     "data": {
      "text/plain": [
       "device(type='cpu')"
      ]
     },
     "execution_count": 6,
     "metadata": {},
     "output_type": "execute_result"
    }
   ],
   "source": [
    "device = torch.device('cuda' if torch.cuda.is_available() else 'cpu')\n",
    "device"
   ]
  },
  {
   "cell_type": "code",
   "execution_count": 7,
   "metadata": {},
   "outputs": [],
   "source": [
    "# Define transforms\n",
    "transform = transforms.Compose([transforms.ToTensor(), transforms.Normalize((0.5,),(0.5,))])\n",
    "\n",
    "# Create training set and define training dataloader\n",
    "training_data = datasets.MNIST(root='data', download=True,train=True, transform=transform)\n",
    "test_data = datasets.MNIST(root='data', download=True,train=False, transform=transform)\n",
    "\n",
    "# Create test set and define test dataloader\n",
    "train_loader = DataLoader(training_data,batch_size=64, shuffle = True)\n",
    "test_loader = DataLoader(test_data,batch_size=64)"
   ]
  },
  {
   "cell_type": "markdown",
   "metadata": {},
   "source": [
    "## Justify your preprocessing\n",
    "\n",
    "In your own words, why did you choose the transforms you chose? If you didn't use any preprocessing steps, why not?"
   ]
  },
  {
   "cell_type": "markdown",
   "metadata": {},
   "source": [
    "Transforms.ToTensor() — converts the image into numbers, that are understandable by the system. It separates the image into three color channels (separate images): red, green & blue. Then it converts the pixels of each image to the brightness of their color between 0 and 255. These values are then scaled down to a range between 0 and 1. The image is now a Torch Tensor.\n",
    "Transforms.Normalize() — normalizes the tensor with a mean and standard deviation which goes as the two parameters respectively."
   ]
  },
  {
   "cell_type": "markdown",
   "metadata": {},
   "source": [
    "## Explore the Dataset\n",
    "Using matplotlib, numpy, and torch, explore the dimensions of your data.\n",
    "\n",
    "You can view images using the `show5` function defined below – it takes a data loader as an argument.\n",
    "Remember that normalized images will look really weird to you! You may want to try changing your transforms to view images.\n",
    "Typically using no transforms other than `toTensor()` works well for viewing – but not as well for training your network.\n",
    "If `show5` doesn't work, go back and check your code for creating your data loaders and your training/test sets."
   ]
  },
  {
   "cell_type": "code",
   "execution_count": 8,
   "metadata": {},
   "outputs": [],
   "source": [
    "## This cell contains a function for showing 5 images from a dataloader – DO NOT CHANGE THE CONTENTS! ##\n",
    "def show5(img_loader,rows=5,cols=3):\n",
    "    dataiter = iter(img_loader)\n",
    "\n",
    "    batch = next(dataiter)\n",
    "    labels = batch[1][0:5]\n",
    "    images = batch[0][0:5]\n",
    "    for i in range(rows):\n",
    "        print(int(labels[i].detach()))\n",
    "    \n",
    "        image = images[i].numpy()\n",
    "        plt.imshow(image.T.squeeze().T)\n",
    "        plt.show()"
   ]
  },
  {
   "cell_type": "code",
   "execution_count": 9,
   "metadata": {},
   "outputs": [
    {
     "name": "stdout",
     "output_type": "stream",
     "text": [
      "6\n"
     ]
    },
    {
     "data": {
      "image/png": "[encoded data removed]",
      "text/plain": [
       "<Figure size 640x480 with 1 Axes>"
      ]
     },
     "metadata": {},
     "output_type": "display_data"
    },
    {
     "name": "stdout",
     "output_type": "stream",
     "text": [
      "8\n"
     ]
    },
    {
     "data": {
      "image/png": "[encoded data removed]",
      "text/plain": [
       "<Figure size 640x480 with 1 Axes>"
      ]
     },
     "metadata": {},
     "output_type": "display_data"
    },
    {
     "name": "stdout",
     "output_type": "stream",
     "text": [
      "9\n"
     ]
    },
    {
     "data": {
      "image/png": "[encoded data removed]",
      "text/plain": [
       "<Figure size 640x480 with 1 Axes>"
      ]
     },
     "metadata": {},
     "output_type": "display_data"
    },
    {
     "name": "stdout",
     "output_type": "stream",
     "text": [
      "0\n"
     ]
    },
    {
     "data": {
      "image/png": "[encoded data removed]",
      "text/plain": [
       "<Figure size 640x480 with 1 Axes>"
      ]
     },
     "metadata": {},
     "output_type": "display_data"
    },
    {
     "name": "stdout",
     "output_type": "stream",
     "text": [
      "3\n"
     ]
    },
    {
     "data": {
      "image/png": "[encoded data removed]",
      "text/plain": [
       "<Figure size 640x480 with 1 Axes>"
      ]
     },
     "metadata": {},
     "output_type": "display_data"
    }
   ],
   "source": [
    "# Explore data\n",
    "show5(train_loader)"
   ]
  },
  {
   "cell_type": "code",
   "execution_count": 10,
   "metadata": {},
   "outputs": [
    {
     "name": "stderr",
     "output_type": "stream",
     "text": [
      "Clipping input data to the valid range for imshow with RGB data ([0..1] for floats or [0..255] for integers). Got range [-1.0..1.0].\n"
     ]
    }
   ],
   "source": [
    "#get some training images \n",
    "dataiter = iter(train_loader)\n",
    "images, labels = next(dataiter)\n",
    "\n",
    "#create a grid of images\n",
    "grid = torchvision.utils.make_grid(images)\n",
    "\n",
    "# Convert the grid tensor to a NumPy array and then to a Matplotlib figure\n",
    "grid_np = grid.cpu().numpy()\n",
    "fig = plt.figure(figsize=(8, 8))\n",
    "plt.imshow(np.transpose(grid_np, (1, 2, 0)))\n",
    "plt.axis('off')\n",
    "\n",
    "#write grid to tensorboard\n",
    "writer.add_image(\"MNIST_images\", grid)\n",
    "\n",
    "#write image to tensorboard\n",
    "writer.add_figure(\"MNIST_images\", fig)"
   ]
  },
  {
   "cell_type": "markdown",
   "metadata": {},
   "source": [
    "## Build your Neural Network\n",
    "Using the layers in `torch.nn` (which has been imported as `nn`) and the `torch.nn.functional` module (imported as `F`), construct a neural network based on the parameters of the dataset.\n",
    "Use any architecture you like. \n",
    "\n",
    "*Note*: If you did not flatten your tensors in your transforms or as part of your preprocessing and you are using only `Linear` layers, make sure to use the `Flatten` layer in your network!"
   ]
  },
  {
   "cell_type": "code",
   "execution_count": 11,
   "metadata": {},
   "outputs": [],
   "source": [
    "class MNIST_MLP(nn.Module):\n",
    "    def __init__(self):\n",
    "        super().__init__()\n",
    "        self.activation = F.relu \n",
    "        self.output =F.log_softmax \n",
    "        self.fc1 = nn.Linear(784,128)\n",
    "        self.fc2 = nn.Linear(128, 64)\n",
    "        self.fc3 = nn.Linear(64, 10)\n",
    "      \n",
    "    def forward(self, x):\n",
    "        x = torch.flatten(x, 1)\n",
    "        x = self.activation(self.fc1(x))\n",
    "        x = self.activation(self.fc2(x))\n",
    "        x = self.output(self.fc3(x), dim=1) \n",
    "        return x\n",
    "\n",
    "mnist_model = MNIST_MLP()\n",
    "if torch.cuda.is_available():\n",
    "    mnist_model.cuda()"
   ]
  },
  {
   "cell_type": "markdown",
   "metadata": {},
   "source": [
    "Specify a loss function and an optimizer, and instantiate the model.\n",
    "\n",
    "If you use a less common loss function, please note why you chose that loss function in a comment."
   ]
  },
  {
   "cell_type": "code",
   "execution_count": 12,
   "metadata": {},
   "outputs": [],
   "source": [
    "criterion = nn.NLLLoss()\n",
    "\n",
    "optimizer = optim.SGD(mnist_model.parameters(), lr=0.003, momentum=0.9)"
   ]
  },
  {
   "cell_type": "markdown",
   "metadata": {},
   "source": [
    "## Running your Neural Network\n",
    "Use whatever method you like to train your neural network, and ensure you record the average loss at each epoch. \n",
    "Don't forget to use `torch.device()` and the `.to()` method for both your model and your data if you are using GPU!\n",
    "\n",
    "If you want to print your loss **during** each epoch, you can use the `enumerate` function and print the loss after a set number of batches. 250 batches works well for most people!"
   ]
  },
  {
   "cell_type": "code",
   "execution_count": 13,
   "metadata": {},
   "outputs": [],
   "source": [
    "def train_network_mnist(net, train_loader,test_loader):\n",
    "    num_epochs = 10\n",
    "    train_loss_history = list()\n",
    "    val_loss_history = list()\n",
    "    \n",
    "    for epoch in range(num_epochs):\n",
    "        net.train()\n",
    "        train_loss = 0.0\n",
    "        train_correct = 0\n",
    "        \n",
    "        for images, labels in train_loader:\n",
    "            # Flatten MNIST images into a 784 long vector\n",
    "            images = images.view(images.shape[0], -1)\n",
    "            \n",
    "            if torch.cuda.is_available():\n",
    "                        images, labels = images.cuda(), labels.cuda()\n",
    "                        \n",
    "            optimizer.zero_grad()\n",
    "            \n",
    "            outputs = net(images)\n",
    "            loss = criterion(outputs, labels)\n",
    "            loss.backward()\n",
    "            optimizer.step()\n",
    "            \n",
    "            _, preds = torch.max(outputs.data, 1)\n",
    "            train_correct += (preds == labels).sum().item()\n",
    "            train_loss += loss.item()\n",
    "        print(f'Epoch {epoch + 1} training accuracy: {train_correct/len(train_loader):.2f}% training loss: {train_loss/len(train_loader):.5f}')\n",
    "        train_loss_history.append(train_loss)\n",
    "        \n",
    "        \n",
    "        val_loss = 0.0\n",
    "        val_correct = 0\n",
    "        net.eval()\n",
    "        for images, labels in test_loader:\n",
    "            images, labels = images.to(device), labels.to(device)\n",
    "        \n",
    "            outputs = net(images)\n",
    "            loss = criterion(outputs, labels)\n",
    "            \n",
    "            _, preds = torch.max(outputs.data, 1)\n",
    "            val_correct += (preds == labels).sum().item()\n",
    "            val_loss += loss.item()\n",
    "        print(f'Epoch {epoch + 1} validation accuracy: {val_correct/len(test_loader):.2f}% validation loss: {val_loss/len(test_loader):.5f}')\n",
    "        val_loss_history.append(val_loss)           \n",
    "\n",
    "    plt.plot(train_loss_history, label=\"Training Loss\")\n",
    "    plt.plot(val_loss_history, label=\"Validation Loss\")\n",
    "    plt.legend()\n",
    "    plt.show()\n",
    "                        \n",
    "                        "
   ]
  },
  {
   "cell_type": "markdown",
   "metadata": {},
   "source": [
    "Plot the training loss (and validation loss/accuracy, if recorded)."
   ]
  },
  {
   "cell_type": "code",
   "execution_count": 23,
   "metadata": {},
   "outputs": [
    {
     "name": "stdout",
     "output_type": "stream",
     "text": [
      "Epoch 1 training accuracy: 51.63% training loss: 0.66432\n",
      "Epoch 1 validation accuracy: 57.59% validation loss: 0.32742\n",
      "Epoch 2 training accuracy: 58.48% training loss: 0.28764\n",
      "Epoch 2 validation accuracy: 59.40% validation loss: 0.23706\n",
      "Epoch 3 training accuracy: 59.67% training loss: 0.22301\n",
      "Epoch 3 validation accuracy: 59.75% validation loss: 0.20259\n",
      "Epoch 4 training accuracy: 60.55% training loss: 0.17953\n",
      "Epoch 4 validation accuracy: 60.41% validation loss: 0.16837\n",
      "Epoch 5 training accuracy: 61.12% training loss: 0.14893\n",
      "Epoch 5 validation accuracy: 60.89% validation loss: 0.15263\n",
      "Epoch 6 training accuracy: 61.56% training loss: 0.12676\n",
      "Epoch 6 validation accuracy: 61.20% validation loss: 0.12827\n",
      "Epoch 7 training accuracy: 61.84% training loss: 0.11043\n",
      "Epoch 7 validation accuracy: 61.46% validation loss: 0.11439\n",
      "Epoch 8 training accuracy: 62.06% training loss: 0.09922\n",
      "Epoch 8 validation accuracy: 61.73% validation loss: 0.10109\n",
      "Epoch 9 training accuracy: 62.27% training loss: 0.08849\n",
      "Epoch 9 validation accuracy: 61.73% validation loss: 0.10013\n",
      "Epoch 10 training accuracy: 62.48% training loss: 0.07886\n",
      "Epoch 10 validation accuracy: 61.88% validation loss: 0.09352\n"
     ]
    },
    {
     "data": {
      "image/png": "[encoded data removed]",
      "text/plain": [
       "<Figure size 640x480 with 1 Axes>"
      ]
     },
     "metadata": {},
     "output_type": "display_data"
    }
   ],
   "source": [
    "train_network_mnist(mnist_model,train_loader,test_loader)"
   ]
  },
  {
   "cell_type": "markdown",
   "metadata": {},
   "source": [
    "## Testing your model\n",
    "Using the previously created `DataLoader` for the test set, compute the percentage of correct predictions using the highest probability prediction. \n",
    "\n",
    "If your accuracy is over 90%, great work, but see if you can push a bit further! \n",
    "If your accuracy is under 90%, you'll need to make improvements.\n",
    "Go back and check your model architecture, loss function, and optimizer to make sure they're appropriate for an image classification task."
   ]
  },
  {
   "cell_type": "code",
   "execution_count": 24,
   "metadata": {},
   "outputs": [
    {
     "name": "stdout",
     "output_type": "stream",
     "text": [
      "Number Of Images Tested = 10000\n",
      "\n",
      "Model Accuracy = 0.9715\n"
     ]
    }
   ],
   "source": [
    "correct_count, all_count = 0, 0\n",
    "for images,labels in test_loader:\n",
    "  for i in range(len(labels)):\n",
    "    img = images[i].view(1, 784)\n",
    "    with torch.no_grad():\n",
    "        logps = mnist_model(img)\n",
    "\n",
    "    \n",
    "    ps = torch.exp(logps)\n",
    "    probab = list(ps.numpy()[0])\n",
    "    pred_label = probab.index(max(probab))\n",
    "    true_label = labels.numpy()[i]\n",
    "    if(true_label == pred_label):\n",
    "      correct_count += 1\n",
    "    all_count += 1\n",
    "\n",
    "print(\"Number Of Images Tested =\", all_count)\n",
    "print(\"\\nModel Accuracy =\", (correct_count/all_count))"
   ]
  },
  {
   "cell_type": "markdown",
   "metadata": {},
   "source": [
    "## Improving your model\n",
    "\n",
    "Once your model is done training, try tweaking your hyperparameters and training again below to improve your accuracy on the test set!"
   ]
  },
  {
   "cell_type": "code",
   "execution_count": 14,
   "metadata": {},
   "outputs": [],
   "source": [
    "class MNIST_MLP_HPO(nn.Module):\n",
    "    def __init__(self,dropout_prob=0.5):\n",
    "        super().__init__()\n",
    "        self.activation = F.relu \n",
    "        self.output =F.log_softmax \n",
    "        self.fc1 = nn.Linear(784,128)\n",
    "        self.fc2 = nn.Linear(128, 64)\n",
    "        self.fc3 = nn.Linear(64, 10)\n",
    "        self.dropout = nn.Dropout(p=dropout_prob)\n",
    "      \n",
    "    def forward(self, x):\n",
    "        x = torch.flatten(x, 1)\n",
    "        x = self.activation(self.fc1(x))\n",
    "        x = self.dropout(x)\n",
    "        x = self.activation(self.fc2(x))\n",
    "        x = self.dropout(x)\n",
    "        x = self.output(self.fc3(x), dim=1) \n",
    "        return x\n",
    "\n",
    "mnist_model_hpo = MNIST_MLP_HPO()\n",
    "if torch.cuda.is_available():\n",
    "    mnist_model_hpo.cuda()"
   ]
  },
  {
   "cell_type": "code",
   "execution_count": 17,
   "metadata": {},
   "outputs": [],
   "source": [
    "\n",
    "class EarlyStopping:\n",
    "    def __init__(self, patience=5, min_delta=0):\n",
    "        self.patience = patience\n",
    "        self.min_delta = min_delta\n",
    "        self.best_loss = None\n",
    "        self.counter = 0\n",
    "\n",
    "    def __call__(self, val_loss):\n",
    "        if self.best_loss is None or val_loss < self.best_loss - self.min_delta:\n",
    "            self.best_loss = val_loss\n",
    "            self.counter = 0\n",
    "        else:\n",
    "            self.counter += 1\n",
    "\n",
    "        return self.counter >= self.patience\n",
    "\n",
    "def train_network_mnist_hpo(net, train_loader, test_loader, weight_decay_values=[0.0001, 0.001, 0.01], dropout_prob=0.7, num_restarts=3):\n",
    "    num_epochs = 10\n",
    "    best_net = None\n",
    "    best_accuracy = 0.0\n",
    "    best_weight_decay = None\n",
    "\n",
    "    for weight_decay in weight_decay_values:\n",
    "        print(f\"Training with weight_decay={weight_decay}\")\n",
    "        for restart in range(num_restarts):\n",
    "            net.apply(weight_reset)\n",
    "            print(f\"Restart {restart + 1}/{num_restarts}\")\n",
    "            \n",
    "            criterion = nn.NLLLoss()\n",
    "            optimizer = optim.SGD(net.parameters(), lr=0.005, momentum=0.9, weight_decay=weight_decay)\n",
    "            scheduler = optim.lr_scheduler.StepLR(optimizer, step_size=5, gamma=0.1)\n",
    "            early_stopping = EarlyStopping(patience=5, min_delta=0.01)\n",
    "            \n",
    "            train_loss_history, val_loss_history = [], []\n",
    "            train_accuracy_history, val_accuracy_history = [], []\n",
    "            \n",
    "            for epoch in range(num_epochs):\n",
    "                net.train()\n",
    "                train_loss = 0.0\n",
    "                train_correct = 0\n",
    "                \n",
    "                for images, labels in train_loader:\n",
    "                    if torch.cuda.is_available():\n",
    "                        images, labels = images.cuda(), labels.cuda()\n",
    "\n",
    "                    optimizer.zero_grad() #Zero out the gradient of the optimizer\n",
    "                    outputs = net(images) #get the output logits from the model\n",
    "                    loss = criterion(outputs, labels)\n",
    "                    \n",
    "                    loss.backward()\n",
    "                    optimizer.step()\n",
    "\n",
    "                    _, preds = torch.max(outputs, 1) #Get class predictions from the outputs\n",
    "                    train_correct += (preds == labels).sum().item() #update the number of correct predictions\n",
    "                    train_loss += loss.item() #Update the running loss\n",
    "\n",
    "                train_accuracy = train_correct / len(train_loader.dataset)\n",
    "                train_loss /= len(train_loader)\n",
    "                train_loss_history.append(train_loss)\n",
    "                train_accuracy_history.append(train_accuracy)\n",
    "\n",
    "                val_loss, val_correct = evaluate_network(net, test_loader)\n",
    "                val_accuracy = val_correct / len(test_loader.dataset)\n",
    "                val_loss_history.append(val_loss)\n",
    "                val_accuracy_history.append(val_accuracy)\n",
    "\n",
    "                scheduler.step()\n",
    "\n",
    "                print(f'Epoch {epoch + 1}/{num_epochs}, Train Accuracy: {train_accuracy:.2f}, Train Loss: {train_loss:.5f}, Validation Accuracy: {val_accuracy:.2f}, Validation Loss: {val_loss:.5f}')\n",
    "            \n",
    "                if early_stopping(val_loss):\n",
    "                    print(\"Early stopping triggered\")\n",
    "                    break\n",
    "\n",
    "            if val_accuracy > best_accuracy:\n",
    "                best_accuracy = val_accuracy\n",
    "                best_net = net\n",
    "                best_weight_decay = weight_decay\n",
    "\n",
    "    print(f\"Best weight_decay: {best_weight_decay}, Best validation accuracy: {best_accuracy:.2f}\")\n",
    "    \n",
    "    plt.plot(train_loss_history, label=\"Training Loss\")\n",
    "    plt.plot(val_loss_history, label=\"Validation Loss\")\n",
    "    plt.xlabel(\"Epoch\")\n",
    "    plt.ylabel(\"Loss\")\n",
    "    plt.legend()\n",
    "    plt.show()\n",
    "    \n",
    "    return best_net\n",
    "\n",
    "def evaluate_network(net, data_loader):\n",
    "    criterion = nn.NLLLoss()\n",
    "    net.eval()\n",
    "    total_loss = 0.0\n",
    "    total_correct = 0\n",
    "    with torch.no_grad():\n",
    "        for images, labels in data_loader:\n",
    "            if torch.cuda.is_available():\n",
    "                images, labels = images.cuda(), labels.cuda()\n",
    "\n",
    "            outputs = net(images)\n",
    "            loss = criterion(outputs, labels)\n",
    "            total_loss += loss.item()\n",
    "\n",
    "            _, preds = torch.max(outputs, 1)\n",
    "            total_correct += (preds == labels).sum().item()\n",
    "\n",
    "    avg_loss = total_loss / len(data_loader)\n",
    "    return avg_loss, total_correct\n",
    "\n",
    "def weight_reset(m):\n",
    "    if isinstance(m, nn.Conv2d) or isinstance(m, nn.Linear):\n",
    "        m.reset_parameters()\n"
   ]
  },
  {
   "cell_type": "code",
   "execution_count": 18,
   "metadata": {},
   "outputs": [
    {
     "name": "stdout",
     "output_type": "stream",
     "text": [
      "Training with weight_decay=0.0001\n",
      "Restart 1/3\n",
      "Epoch 1/10, Train Accuracy: 0.71, Train Loss: 0.88670, Validation Accuracy: 0.91, Validation Loss: 0.30037\n",
      "Epoch 2/10, Train Accuracy: 0.86, Train Loss: 0.46962, Validation Accuracy: 0.93, Validation Loss: 0.23873\n",
      "Epoch 3/10, Train Accuracy: 0.89, Train Loss: 0.40097, Validation Accuracy: 0.94, Validation Loss: 0.20605\n",
      "Epoch 4/10, Train Accuracy: 0.90, Train Loss: 0.35315, Validation Accuracy: 0.95, Validation Loss: 0.18099\n",
      "Epoch 5/10, Train Accuracy: 0.91, Train Loss: 0.32088, Validation Accuracy: 0.95, Validation Loss: 0.16816\n",
      "Epoch 6/10, Train Accuracy: 0.92, Train Loss: 0.27353, Validation Accuracy: 0.96, Validation Loss: 0.15043\n",
      "Epoch 7/10, Train Accuracy: 0.93, Train Loss: 0.26404, Validation Accuracy: 0.96, Validation Loss: 0.14858\n",
      "Epoch 8/10, Train Accuracy: 0.93, Train Loss: 0.25973, Validation Accuracy: 0.96, Validation Loss: 0.14486\n",
      "Epoch 9/10, Train Accuracy: 0.93, Train Loss: 0.25822, Validation Accuracy: 0.96, Validation Loss: 0.14595\n",
      "Epoch 10/10, Train Accuracy: 0.93, Train Loss: 0.25413, Validation Accuracy: 0.96, Validation Loss: 0.14281\n",
      "Restart 2/3\n",
      "Epoch 1/10, Train Accuracy: 0.71, Train Loss: 0.90423, Validation Accuracy: 0.91, Validation Loss: 0.30035\n",
      "Epoch 2/10, Train Accuracy: 0.86, Train Loss: 0.48664, Validation Accuracy: 0.93, Validation Loss: 0.23499\n",
      "Epoch 3/10, Train Accuracy: 0.88, Train Loss: 0.41213, Validation Accuracy: 0.94, Validation Loss: 0.20763\n",
      "Epoch 4/10, Train Accuracy: 0.89, Train Loss: 0.37521, Validation Accuracy: 0.94, Validation Loss: 0.18335\n",
      "Epoch 5/10, Train Accuracy: 0.90, Train Loss: 0.34297, Validation Accuracy: 0.94, Validation Loss: 0.17668\n",
      "Epoch 6/10, Train Accuracy: 0.92, Train Loss: 0.29537, Validation Accuracy: 0.95, Validation Loss: 0.15984\n",
      "Epoch 7/10, Train Accuracy: 0.92, Train Loss: 0.28677, Validation Accuracy: 0.95, Validation Loss: 0.15599\n",
      "Epoch 8/10, Train Accuracy: 0.92, Train Loss: 0.27924, Validation Accuracy: 0.95, Validation Loss: 0.15341\n",
      "Epoch 9/10, Train Accuracy: 0.92, Train Loss: 0.27735, Validation Accuracy: 0.95, Validation Loss: 0.15355\n",
      "Epoch 10/10, Train Accuracy: 0.92, Train Loss: 0.27406, Validation Accuracy: 0.95, Validation Loss: 0.14974\n",
      "Restart 3/3\n",
      "Epoch 1/10, Train Accuracy: 0.71, Train Loss: 0.90090, Validation Accuracy: 0.91, Validation Loss: 0.32531\n",
      "Epoch 2/10, Train Accuracy: 0.86, Train Loss: 0.46811, Validation Accuracy: 0.93, Validation Loss: 0.23951\n",
      "Epoch 3/10, Train Accuracy: 0.88, Train Loss: 0.39797, Validation Accuracy: 0.94, Validation Loss: 0.19966\n",
      "Epoch 4/10, Train Accuracy: 0.90, Train Loss: 0.35247, Validation Accuracy: 0.95, Validation Loss: 0.17961\n",
      "Epoch 5/10, Train Accuracy: 0.90, Train Loss: 0.33218, Validation Accuracy: 0.95, Validation Loss: 0.17058\n",
      "Epoch 6/10, Train Accuracy: 0.92, Train Loss: 0.27404, Validation Accuracy: 0.96, Validation Loss: 0.15404\n",
      "Epoch 7/10, Train Accuracy: 0.93, Train Loss: 0.26774, Validation Accuracy: 0.96, Validation Loss: 0.14936\n",
      "Epoch 8/10, Train Accuracy: 0.93, Train Loss: 0.26547, Validation Accuracy: 0.96, Validation Loss: 0.14845\n",
      "Epoch 9/10, Train Accuracy: 0.93, Train Loss: 0.25727, Validation Accuracy: 0.96, Validation Loss: 0.14454\n",
      "Epoch 10/10, Train Accuracy: 0.93, Train Loss: 0.25368, Validation Accuracy: 0.96, Validation Loss: 0.14416\n",
      "Training with weight_decay=0.001\n",
      "Restart 1/3\n",
      "Epoch 1/10, Train Accuracy: 0.71, Train Loss: 0.89208, Validation Accuracy: 0.91, Validation Loss: 0.31098\n",
      "Epoch 2/10, Train Accuracy: 0.86, Train Loss: 0.48284, Validation Accuracy: 0.93, Validation Loss: 0.23801\n",
      "Epoch 3/10, Train Accuracy: 0.88, Train Loss: 0.40705, Validation Accuracy: 0.94, Validation Loss: 0.21654\n",
      "Epoch 4/10, Train Accuracy: 0.90, Train Loss: 0.36399, Validation Accuracy: 0.94, Validation Loss: 0.18883\n",
      "Epoch 5/10, Train Accuracy: 0.90, Train Loss: 0.33938, Validation Accuracy: 0.95, Validation Loss: 0.16915\n",
      "Epoch 6/10, Train Accuracy: 0.92, Train Loss: 0.28446, Validation Accuracy: 0.95, Validation Loss: 0.15333\n",
      "Epoch 7/10, Train Accuracy: 0.92, Train Loss: 0.27472, Validation Accuracy: 0.95, Validation Loss: 0.15322\n",
      "Epoch 8/10, Train Accuracy: 0.93, Train Loss: 0.27125, Validation Accuracy: 0.95, Validation Loss: 0.14910\n",
      "Epoch 9/10, Train Accuracy: 0.93, Train Loss: 0.27188, Validation Accuracy: 0.95, Validation Loss: 0.14915\n",
      "Epoch 10/10, Train Accuracy: 0.93, Train Loss: 0.26157, Validation Accuracy: 0.95, Validation Loss: 0.14636\n",
      "Restart 2/3\n",
      "Epoch 1/10, Train Accuracy: 0.71, Train Loss: 0.89409, Validation Accuracy: 0.91, Validation Loss: 0.29209\n",
      "Epoch 2/10, Train Accuracy: 0.86, Train Loss: 0.47670, Validation Accuracy: 0.93, Validation Loss: 0.22339\n",
      "Epoch 3/10, Train Accuracy: 0.89, Train Loss: 0.39736, Validation Accuracy: 0.94, Validation Loss: 0.19971\n",
      "Epoch 4/10, Train Accuracy: 0.90, Train Loss: 0.35646, Validation Accuracy: 0.94, Validation Loss: 0.17653\n",
      "Epoch 5/10, Train Accuracy: 0.91, Train Loss: 0.32920, Validation Accuracy: 0.95, Validation Loss: 0.17338\n",
      "Epoch 6/10, Train Accuracy: 0.92, Train Loss: 0.27822, Validation Accuracy: 0.96, Validation Loss: 0.14510\n",
      "Epoch 7/10, Train Accuracy: 0.93, Train Loss: 0.26543, Validation Accuracy: 0.96, Validation Loss: 0.14241\n",
      "Epoch 8/10, Train Accuracy: 0.93, Train Loss: 0.26111, Validation Accuracy: 0.96, Validation Loss: 0.14257\n",
      "Epoch 9/10, Train Accuracy: 0.93, Train Loss: 0.25705, Validation Accuracy: 0.96, Validation Loss: 0.14066\n",
      "Epoch 10/10, Train Accuracy: 0.93, Train Loss: 0.25560, Validation Accuracy: 0.96, Validation Loss: 0.13854\n",
      "Restart 3/3\n",
      "Epoch 1/10, Train Accuracy: 0.70, Train Loss: 0.91537, Validation Accuracy: 0.90, Validation Loss: 0.33241\n",
      "Epoch 2/10, Train Accuracy: 0.86, Train Loss: 0.49101, Validation Accuracy: 0.93, Validation Loss: 0.24599\n",
      "Epoch 3/10, Train Accuracy: 0.88, Train Loss: 0.41501, Validation Accuracy: 0.94, Validation Loss: 0.21121\n",
      "Epoch 4/10, Train Accuracy: 0.89, Train Loss: 0.37642, Validation Accuracy: 0.94, Validation Loss: 0.19280\n",
      "Epoch 5/10, Train Accuracy: 0.90, Train Loss: 0.34402, Validation Accuracy: 0.94, Validation Loss: 0.18071\n",
      "Epoch 6/10, Train Accuracy: 0.92, Train Loss: 0.29178, Validation Accuracy: 0.95, Validation Loss: 0.16045\n",
      "Epoch 7/10, Train Accuracy: 0.92, Train Loss: 0.28554, Validation Accuracy: 0.95, Validation Loss: 0.16156\n",
      "Epoch 8/10, Train Accuracy: 0.92, Train Loss: 0.27903, Validation Accuracy: 0.95, Validation Loss: 0.15770\n",
      "Epoch 9/10, Train Accuracy: 0.92, Train Loss: 0.27435, Validation Accuracy: 0.95, Validation Loss: 0.15540\n",
      "Epoch 10/10, Train Accuracy: 0.92, Train Loss: 0.27604, Validation Accuracy: 0.95, Validation Loss: 0.15305\n",
      "Training with weight_decay=0.01\n",
      "Restart 1/3\n",
      "Epoch 1/10, Train Accuracy: 0.70, Train Loss: 0.91257, Validation Accuracy: 0.90, Validation Loss: 0.33981\n",
      "Epoch 2/10, Train Accuracy: 0.85, Train Loss: 0.51583, Validation Accuracy: 0.91, Validation Loss: 0.29723\n",
      "Epoch 3/10, Train Accuracy: 0.87, Train Loss: 0.46284, Validation Accuracy: 0.93, Validation Loss: 0.24924\n",
      "Epoch 4/10, Train Accuracy: 0.88, Train Loss: 0.43973, Validation Accuracy: 0.93, Validation Loss: 0.25133\n",
      "Epoch 5/10, Train Accuracy: 0.88, Train Loss: 0.42604, Validation Accuracy: 0.93, Validation Loss: 0.23408\n",
      "Epoch 6/10, Train Accuracy: 0.90, Train Loss: 0.37921, Validation Accuracy: 0.94, Validation Loss: 0.21415\n",
      "Epoch 7/10, Train Accuracy: 0.90, Train Loss: 0.37060, Validation Accuracy: 0.94, Validation Loss: 0.21437\n",
      "Epoch 8/10, Train Accuracy: 0.90, Train Loss: 0.36901, Validation Accuracy: 0.94, Validation Loss: 0.21328\n",
      "Epoch 9/10, Train Accuracy: 0.90, Train Loss: 0.37104, Validation Accuracy: 0.94, Validation Loss: 0.21201\n",
      "Epoch 10/10, Train Accuracy: 0.90, Train Loss: 0.36997, Validation Accuracy: 0.94, Validation Loss: 0.21050\n",
      "Restart 2/3\n",
      "Epoch 1/10, Train Accuracy: 0.70, Train Loss: 0.90914, Validation Accuracy: 0.91, Validation Loss: 0.34187\n",
      "Epoch 2/10, Train Accuracy: 0.85, Train Loss: 0.52357, Validation Accuracy: 0.92, Validation Loss: 0.28756\n",
      "Epoch 3/10, Train Accuracy: 0.87, Train Loss: 0.47103, Validation Accuracy: 0.92, Validation Loss: 0.25977\n",
      "Epoch 4/10, Train Accuracy: 0.87, Train Loss: 0.45067, Validation Accuracy: 0.93, Validation Loss: 0.25535\n",
      "Epoch 5/10, Train Accuracy: 0.88, Train Loss: 0.43199, Validation Accuracy: 0.93, Validation Loss: 0.24338\n",
      "Epoch 6/10, Train Accuracy: 0.89, Train Loss: 0.38516, Validation Accuracy: 0.94, Validation Loss: 0.22035\n",
      "Epoch 7/10, Train Accuracy: 0.90, Train Loss: 0.37688, Validation Accuracy: 0.94, Validation Loss: 0.21750\n",
      "Epoch 8/10, Train Accuracy: 0.90, Train Loss: 0.37346, Validation Accuracy: 0.94, Validation Loss: 0.21460\n",
      "Epoch 9/10, Train Accuracy: 0.90, Train Loss: 0.37074, Validation Accuracy: 0.94, Validation Loss: 0.21604\n",
      "Epoch 10/10, Train Accuracy: 0.90, Train Loss: 0.37228, Validation Accuracy: 0.94, Validation Loss: 0.21301\n",
      "Restart 3/3\n",
      "Epoch 1/10, Train Accuracy: 0.71, Train Loss: 0.89969, Validation Accuracy: 0.91, Validation Loss: 0.33044\n",
      "Epoch 2/10, Train Accuracy: 0.85, Train Loss: 0.51456, Validation Accuracy: 0.92, Validation Loss: 0.29733\n",
      "Epoch 3/10, Train Accuracy: 0.87, Train Loss: 0.45994, Validation Accuracy: 0.92, Validation Loss: 0.25967\n",
      "Epoch 4/10, Train Accuracy: 0.88, Train Loss: 0.43657, Validation Accuracy: 0.92, Validation Loss: 0.25832\n",
      "Epoch 5/10, Train Accuracy: 0.88, Train Loss: 0.42325, Validation Accuracy: 0.93, Validation Loss: 0.23788\n",
      "Epoch 6/10, Train Accuracy: 0.90, Train Loss: 0.37437, Validation Accuracy: 0.94, Validation Loss: 0.21969\n",
      "Epoch 7/10, Train Accuracy: 0.90, Train Loss: 0.36795, Validation Accuracy: 0.94, Validation Loss: 0.21431\n",
      "Epoch 8/10, Train Accuracy: 0.90, Train Loss: 0.36787, Validation Accuracy: 0.94, Validation Loss: 0.21543\n",
      "Epoch 9/10, Train Accuracy: 0.90, Train Loss: 0.36444, Validation Accuracy: 0.94, Validation Loss: 0.21124\n",
      "Epoch 10/10, Train Accuracy: 0.90, Train Loss: 0.36276, Validation Accuracy: 0.94, Validation Loss: 0.21166\n",
      "Best weight_decay: 0.001, Best validation accuracy: 0.96\n"
     ]
    },
    {
     "data": {
      "image/png": "[encoded data removed]",
      "text/plain": [
       "<Figure size 640x480 with 1 Axes>"
      ]
     },
     "metadata": {},
     "output_type": "display_data"
    },
    {
     "data": {
      "text/plain": [
       "MNIST_MLP_HPO(\n",
       "  (fc1): Linear(in_features=784, out_features=128, bias=True)\n",
       "  (fc2): Linear(in_features=128, out_features=64, bias=True)\n",
       "  (fc3): Linear(in_features=64, out_features=10, bias=True)\n",
       "  (dropout): Dropout(p=0.5, inplace=False)\n",
       ")"
      ]
     },
     "execution_count": 18,
     "metadata": {},
     "output_type": "execute_result"
    }
   ],
   "source": [
    "train_network_mnist_hpo(mnist_model_hpo,train_loader,test_loader,weight_decay_values=[0.0001, 0.001, 0.01],dropout_prob=0.5,num_restarts=3)"
   ]
  },
  {
   "cell_type": "code",
   "execution_count": 19,
   "metadata": {},
   "outputs": [
    {
     "name": "stdout",
     "output_type": "stream",
     "text": [
      "Number Of Images Tested = 10000\n",
      "\n",
      "Model Accuracy = 0.0984\n"
     ]
    }
   ],
   "source": [
    "correct_count, all_count = 0, 0\n",
    "for images,labels in test_loader:\n",
    "  for i in range(len(labels)):\n",
    "    img = images[i].view(1, 784)\n",
    "    with torch.no_grad():\n",
    "        logps = mnist_model(img)\n",
    "\n",
    "    \n",
    "    ps = torch.exp(logps)\n",
    "    probab = list(ps.numpy()[0])\n",
    "    pred_label = probab.index(max(probab))\n",
    "    true_label = labels.numpy()[i]\n",
    "    if(true_label == pred_label):\n",
    "      correct_count += 1\n",
    "    all_count += 1\n",
    "\n",
    "print(\"Number Of Images Tested =\", all_count)\n",
    "print(\"\\nModel Accuracy =\", (correct_count/all_count))"
   ]
  },
  {
   "cell_type": "markdown",
   "metadata": {},
   "source": [
    "## Saving your model\n",
    "Using `torch.save`, save your model for future loading."
   ]
  },
  {
   "cell_type": "code",
   "execution_count": 22,
   "metadata": {},
   "outputs": [],
   "source": [
    "torch.save(train_network_mnist_hpo, 'model.pth')"
   ]
  }
 ],
 "metadata": {
  "kernelspec": {
   "display_name": "Python 3",
   "language": "python",
   "name": "python3"
  },
  "language_info": {
   "codemirror_mode": {
    "name": "ipython",
    "version": 3
   },
   "file_extension": ".py",
   "mimetype": "text/x-python",
   "name": "python",
   "nbconvert_exporter": "python",
   "pygments_lexer": "ipython3",
   "version": "3.11.9"
  }
 },
 "nbformat": 4,
 "nbformat_minor": 4
}
